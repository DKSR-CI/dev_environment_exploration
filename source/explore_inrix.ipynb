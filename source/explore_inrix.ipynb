{
 "cells": [
  {
   "cell_type": "code",
   "execution_count": null,
   "metadata": {
    "tags": []
   },
   "outputs": [],
   "source": [
    "from pathlib import Path\n",
    "\n",
    "import numpy as np\n",
    "import pandas as pd\n",
    "import os"
   ]
  },
  {
   "cell_type": "code",
   "execution_count": null,
   "metadata": {
    "tags": []
   },
   "outputs": [],
   "source": [
    "DATA_FOLDER = Path(\"../data/Inrix-Daten/date=2024-02-02\")\n",
    "\n",
    "list(DATA_FOLDER.glob(\"*\"))"
   ]
  },
  {
   "cell_type": "markdown",
   "metadata": {
    "jp-MarkdownHeadingCollapsed": true,
    "tags": []
   },
   "source": [
    "### Step 1. Undertsand the difference between reports"
   ]
  },
  {
   "cell_type": "code",
   "execution_count": null,
   "metadata": {},
   "outputs": [],
   "source": [
    "trips_172545_path = DATA_FOLDER.joinpath(\"reportId=172545/v1/data/trips/trips.csv/trips.csv\")"
   ]
  },
  {
   "cell_type": "code",
   "execution_count": null,
   "metadata": {},
   "outputs": [],
   "source": [
    "df = pd.read_csv(trips_172545_path,\n",
    "                 header=None,\n",
    "                 escapechar=\"\\\\\",  # this allows to read \"bad_lines\" with `{\"VT\":\"HGV\",\"FT\":\"DIESEL\"}` on the last col\n",
    "                 on_bad_lines=\"warn\")"
   ]
  },
  {
   "cell_type": "code",
   "execution_count": null,
   "metadata": {},
   "outputs": [],
   "source": [
    "df.shape"
   ]
  },
  {
   "cell_type": "code",
   "execution_count": null,
   "metadata": {},
   "outputs": [],
   "source": [
    "df.iloc[36878:36885, :]"
   ]
  },
  {
   "cell_type": "code",
   "execution_count": null,
   "metadata": {},
   "outputs": [],
   "source": [
    "df[df.columns[-1]].value_counts()"
   ]
  },
  {
   "cell_type": "markdown",
   "metadata": {},
   "source": [
    "Given the small amount of data in this column, we will remove it.\n",
    "\n",
    "Also, given that in `TripBulkReportTripsHeaders.csv` there are only 31 elements, I assume this is the \"misplaced\" column."
   ]
  },
  {
   "cell_type": "code",
   "execution_count": null,
   "metadata": {},
   "outputs": [],
   "source": [
    "df = df.drop(columns=[31])\n",
    "\n",
    "headers_cols = pd.read_csv(DATA_FOLDER.joinpath(\"reportId=172545/v1/schema/TripBulkReportTripsHeaders.csv\")).columns\n",
    "\n",
    "df.columns = headers_cols"
   ]
  },
  {
   "cell_type": "code",
   "execution_count": null,
   "metadata": {},
   "outputs": [],
   "source": [
    "def read_trips_csv(report_folder: Path) -> pd.DataFrame:\n",
    "    \n",
    "    data_file_path = report_folder.joinpath(\"v1/data/trips/trips.csv/trips.csv\")\n",
    "    headers_file_path = report_folder.joinpath(\"v1/schema/TripBulkReportTripsHeaders.csv\")\n",
    "    \n",
    "    temp_df = pd.read_csv(data_file_path,\n",
    "                 header=None,\n",
    "                 escapechar=\"\\\\\",  # this allows to read \"bad_lines\" with `{\"VT\":\"HGV\",\"FT\":\"DIESEL\"}` on the last col\n",
    "                 on_bad_lines=\"warn\")\n",
    "    \n",
    "    temp_headers_cols = pd.read_csv(headers_file_path).columns\n",
    "\n",
    "    temp_df = temp_df.drop(columns=[31])\n",
    "    temp_df.columns = temp_headers_cols\n",
    "    \n",
    "    return temp_df\n"
   ]
  },
  {
   "cell_type": "code",
   "execution_count": null,
   "metadata": {},
   "outputs": [],
   "source": [
    "df_172545 = read_trips_csv(DATA_FOLDER.joinpath(\"reportId=172545\"))\n",
    "df_172546 = read_trips_csv(DATA_FOLDER.joinpath(\"reportId=172546\"))\n",
    "df_172547 = read_trips_csv(DATA_FOLDER.joinpath(\"reportId=172547\"))"
   ]
  },
  {
   "cell_type": "markdown",
   "metadata": {},
   "source": [
    "#### Assumption 1: Start/End Date"
   ]
  },
  {
   "cell_type": "code",
   "execution_count": null,
   "metadata": {},
   "outputs": [],
   "source": [
    "testing_column = \"StartDate\"\n",
    "\n",
    "print(f\"\"\"Min and Max {testing_column} for 5: {df_172545[testing_column].min()} - {df_172545[testing_column].max()}\"\"\")\n",
    "print(f\"\"\"Min and Max {testing_column} for 6: {df_172546[testing_column].min()} - {df_172546[testing_column].max()}\"\"\")\n",
    "print(f\"\"\"Min and Max {testing_column} for 7: {df_172547[testing_column].min()} - {df_172547[testing_column].max()}\"\"\")"
   ]
  },
  {
   "cell_type": "code",
   "execution_count": null,
   "metadata": {},
   "outputs": [],
   "source": [
    "testing_column = \"EndDate\"\n",
    "\n",
    "print(f\"\"\"Min and Max {testing_column} for 5: {df_172545[testing_column].min()} - {df_172545[testing_column].max()}\"\"\")\n",
    "print(f\"\"\"Min and Max {testing_column} for 6: {df_172546[testing_column].min()} - {df_172546[testing_column].max()}\"\"\")\n",
    "print(f\"\"\"Min and Max {testing_column} for 7: {df_172547[testing_column].min()} - {df_172547[testing_column].max()}\"\"\")"
   ]
  },
  {
   "cell_type": "markdown",
   "metadata": {},
   "source": [
    "It seems quite plausible that each report is generated on a per-month basis, that is, sorting by `StartDate`"
   ]
  },
  {
   "cell_type": "markdown",
   "metadata": {},
   "source": [
    "### Step 2. Explore trips data"
   ]
  },
  {
   "cell_type": "markdown",
   "metadata": {},
   "source": [
    "Given the size of the trip data we can merge them into one for aggregated processing and visualization."
   ]
  },
  {
   "cell_type": "code",
   "execution_count": null,
   "metadata": {},
   "outputs": [],
   "source": [
    "df_trips = pd.concat([df_172545, df_172546, df_172547],\n",
    "                     axis=0,\n",
    "                     ignore_index=True)\n",
    "\n",
    "#  Save top parquet to later be able to load directly\n",
    "if \"processed\" not in os.listdir(\"../data\"):\n",
    "    os.mkdir(\"../data/processed\")\n",
    "    \n",
    "df_trips.to_parquet(\"../data/processed/all_trips.parquet\")"
   ]
  },
  {
   "cell_type": "markdown",
   "metadata": {},
   "source": [
    "Load saved data"
   ]
  },
  {
   "cell_type": "code",
   "execution_count": null,
   "metadata": {
    "tags": []
   },
   "outputs": [],
   "source": [
    "df_trips = pd.read_parquet(\"../data/processed/all_trips.parquet\")"
   ]
  },
  {
   "cell_type": "markdown",
   "metadata": {
    "jp-MarkdownHeadingCollapsed": true,
    "tags": []
   },
   "source": [
    "#### Look into the data"
   ]
  },
  {
   "cell_type": "code",
   "execution_count": null,
   "metadata": {
    "tags": []
   },
   "outputs": [],
   "source": [
    "df_trips[\"Mode\"].value_counts()"
   ]
  },
  {
   "cell_type": "markdown",
   "metadata": {},
   "source": [
    "GeospatialType from the documentation:\n",
    "\n",
    "describes the trip's geospatial intersection with the requested zones\n",
    "- II - Internal-to-Internal: trips that start & end within any zones;\n",
    "- IE - Internal-to-External: trips that start within any zone and end outside of any zone;\n",
    "- EI - External-to-Internal: trips that start outside of any zone and end within in any zone;\n",
    "- EE - External-to-External: trips that start & end outside of any zones, but were selected because of an intersection with one or more zones"
   ]
  },
  {
   "cell_type": "code",
   "execution_count": null,
   "metadata": {
    "tags": []
   },
   "outputs": [],
   "source": [
    "df_trips[\"GeospatialType\"].value_counts()"
   ]
  },
  {
   "cell_type": "code",
   "execution_count": null,
   "metadata": {
    "tags": []
   },
   "outputs": [],
   "source": [
    "df_trips[\"ProviderType\"].value_counts()"
   ]
  },
  {
   "cell_type": "code",
   "execution_count": null,
   "metadata": {
    "tags": []
   },
   "outputs": [],
   "source": [
    "display(df_trips[\"OriginZoneName\"].value_counts())\n",
    "display(df_trips[\"DestinationZoneName\"].value_counts())"
   ]
  },
  {
   "cell_type": "code",
   "execution_count": null,
   "metadata": {
    "tags": []
   },
   "outputs": [],
   "source": [
    "df_trips[\"EndpointType\"].value_counts()"
   ]
  },
  {
   "cell_type": "code",
   "execution_count": null,
   "metadata": {
    "tags": []
   },
   "outputs": [],
   "source": [
    "df_trips[\"TripMeanSpeedKph\"].plot.hist(bins=40)\n"
   ]
  },
  {
   "cell_type": "code",
   "execution_count": null,
   "metadata": {
    "tags": []
   },
   "outputs": [],
   "source": [
    "df_trips[\"TripMaxSpeedKph\"].plot.hist(bins=40)"
   ]
  },
  {
   "cell_type": "code",
   "execution_count": null,
   "metadata": {
    "tags": []
   },
   "outputs": [],
   "source": [
    "df_trips[\"TripDistanceMeters\"].plot.hist(bins=100, log=False)"
   ]
  },
  {
   "cell_type": "code",
   "execution_count": null,
   "metadata": {
    "tags": []
   },
   "outputs": [],
   "source": [
    "import plotly.express as px\n",
    "\n",
    "df_trips_temp = df_trips[[\"TripMeanSpeedKph\", \"TripMaxSpeedKph\", \"TripDistanceMeters\", \"GeospatialType\"]].copy()\n",
    "\n",
    "df_trips_temp[\"Log_TripDistanceMeters\"] = np.log(df_trips_temp[\"TripDistanceMeters\"] + 10)\n",
    "\n",
    "df_trips_temp = df_trips_temp.sample(frac=0.1, replace=False, axis=0,\n",
    "                                    #  random_state=23\n",
    "                                     )\n",
    "\n",
    "px.scatter(data_frame=df_trips_temp,\n",
    "           x=\"TripMeanSpeedKph\",\n",
    "           y=\"TripMaxSpeedKph\",\n",
    "           color=\"Log_TripDistanceMeters\",\n",
    "           color_continuous_scale=px.colors.diverging.balance,\n",
    "           facet_col=\"GeospatialType\",\n",
    "           category_orders={\"GeospatialType\": [\"II\", \"IE\", \"EI\", \"EE\"]},\n",
    "           marginal_x=\"violin\",\n",
    "           hover_data=[\"TripDistanceMeters\"],\n",
    "           opacity=0.2)\n",
    "\n"
   ]
  },
  {
   "cell_type": "code",
   "execution_count": null,
   "metadata": {
    "tags": []
   },
   "outputs": [],
   "source": [
    "df_trips[\"WaypointFreqSec\"].plot.hist(bins=50, log=True)"
   ]
  },
  {
   "cell_type": "markdown",
   "metadata": {},
   "source": [
    "#### Look at the geospatial data"
   ]
  },
  {
   "cell_type": "code",
   "execution_count": null,
   "metadata": {
    "tags": []
   },
   "outputs": [],
   "source": [
    "import geopandas as gpd\n",
    "\n",
    "gdf_trips = gpd.GeoDataFrame(data=df_trips)\n",
    "\n",
    "gdf_trips[\"StartLoc\"] = gpd.points_from_xy(df_trips[\"StartLocLon\"], df_trips[\"StartLocLat\"], crs=\"EPSG:4326\")\n",
    "gdf_trips[\"EndLoc\"] = gpd.points_from_xy(df_trips[\"EndLocLon\"], df_trips[\"EndLocLat\"], crs=\"EPSG:4326\")\n",
    "\n",
    "gdf_trips.set_geometry(\"StartLoc\", inplace=True)"
   ]
  },
  {
   "cell_type": "code",
   "execution_count": null,
   "metadata": {
    "tags": []
   },
   "outputs": [],
   "source": [
    "gdf_trips.set_geometry(\"StartLoc\", inplace=True)\n",
    "\n",
    "gdf_trips.sample(frac=0.005).explore()"
   ]
  },
  {
   "cell_type": "code",
   "execution_count": null,
   "metadata": {
    "tags": []
   },
   "outputs": [],
   "source": [
    "gdf_trips.set_geometry(\"EndLoc\", inplace=True)\n",
    "\n",
    "gdf_trips.sample(frac=0.005).explore()"
   ]
  },
  {
   "cell_type": "markdown",
   "metadata": {},
   "source": [
    "#### Use H3 indexing"
   ]
  },
  {
   "cell_type": "code",
   "execution_count": null,
   "metadata": {
    "tags": []
   },
   "outputs": [],
   "source": [
    "H3_RESOLUTION = 5"
   ]
  },
  {
   "cell_type": "code",
   "execution_count": null,
   "metadata": {
    "tags": []
   },
   "outputs": [],
   "source": [
    "from tqdm import tqdm\n",
    "\n",
    "tqdm.pandas()\n",
    "\n",
    "import h3.api.numpy_int as h3\n",
    "\n",
    "gdf_trips[f\"StartLoc_H3_{H3_RESOLUTION}\"] = gdf_trips.progress_apply(lambda row: h3.geo_to_h3(row[\"StartLoc\"].x, row[\"StartLoc\"].y, H3_RESOLUTION), axis=1)\n",
    "gdf_trips[f\"EndLoc_H3_{H3_RESOLUTION}\"] = gdf_trips.progress_apply(lambda row: h3.geo_to_h3(row[\"EndLoc\"].x, row[\"EndLoc\"].y, H3_RESOLUTION), axis=1)\n",
    "\n",
    "gdf_trips.to_parquet(f\"../data/processed/all_trips_h3_{H3_RESOLUTION}.parquet\")"
   ]
  },
  {
   "cell_type": "markdown",
   "metadata": {},
   "source": [
    "Load saved data"
   ]
  },
  {
   "cell_type": "code",
   "execution_count": null,
   "metadata": {
    "tags": []
   },
   "outputs": [],
   "source": [
    "gdf_trips = gpd.read_parquet(f\"../data/processed/all_trips_h3_{H3_RESOLUTION}.parquet\")"
   ]
  },
  {
   "cell_type": "code",
   "execution_count": null,
   "metadata": {
    "tags": []
   },
   "outputs": [],
   "source": [
    "gdf_trips.head(4)"
   ]
  },
  {
   "cell_type": "markdown",
   "metadata": {},
   "source": [
    "#### Look at start location (by H3 cell)"
   ]
  },
  {
   "cell_type": "code",
   "execution_count": null,
   "metadata": {
    "tags": []
   },
   "outputs": [],
   "source": [
    "gdf_trips_counts = gdf_trips[f\"StartLoc_H3_{H3_RESOLUTION}\"].value_counts().to_frame().reset_index()\n",
    "\n",
    "gdf_trips_counts"
   ]
  },
  {
   "cell_type": "code",
   "execution_count": null,
   "metadata": {
    "tags": []
   },
   "outputs": [],
   "source": [
    "gdf_trips_counts.dtypes"
   ]
  },
  {
   "cell_type": "markdown",
   "metadata": {},
   "source": [
    "##### Using `h3_to_geo` and `ColumnLayer`"
   ]
  },
  {
   "cell_type": "code",
   "execution_count": null,
   "metadata": {
    "tags": []
   },
   "outputs": [],
   "source": [
    "def get_geo_and_count(row):\n",
    "    \n",
    "    lon, lat = h3.h3_to_geo(row[f\"StartLoc_H3_{H3_RESOLUTION}\"])\n",
    "    \n",
    "    # return [lat, lon, row[\"count\"]]\n",
    "    return {\"lat\": lat, \"lon\": lon} #, \"count\": row[\"count\"]}\n",
    "\n",
    "gdf_trips_counts[[\"lat\", \"lon\"]] = gdf_trips_counts.progress_apply(lambda row: get_geo_and_count(row), axis=1, result_type=\"expand\")"
   ]
  },
  {
   "cell_type": "code",
   "execution_count": null,
   "metadata": {
    "tags": []
   },
   "outputs": [],
   "source": [
    "gdf_trips_counts"
   ]
  },
  {
   "cell_type": "code",
   "execution_count": null,
   "metadata": {
    "tags": []
   },
   "outputs": [],
   "source": [
    "gdf_trips_counts.dtypes"
   ]
  },
  {
   "cell_type": "code",
   "execution_count": null,
   "metadata": {
    "tags": []
   },
   "outputs": [],
   "source": [
    "import pydeck as pdk\n",
    "\n",
    "column_layer = pdk.Layer(\n",
    "    \"ColumnLayer\",\n",
    "    data=gdf_trips_counts,\n",
    "    get_position=[\"lon\", \"lat\"],\n",
    "    get_elevation=\"count / 100\",\n",
    "    elevation_scale=100,\n",
    "    radius=1800,\n",
    "    get_fill_color=[\"count * 10\", \"count\", \"count * 10\", 140],\n",
    "    pickable=True,\n",
    "    auto_highlight=True,\n",
    ")\n",
    "\n",
    "# Set the viewport location\n",
    "view_state = pdk.ViewState(latitude=50,\n",
    "                           longitude=8,\n",
    "                           zoom=6.5,\n",
    "                           bearing=0,\n",
    "                           pitch=60)\n",
    "\n",
    "\n",
    "# Render\n",
    "r = pdk.Deck(layers=[column_layer],\n",
    "             initial_view_state=view_state,\n",
    "             tooltip={\"text\": \"Count: {count}\"})\n",
    "r #.to_html(\"h3_centroids_ColumnLayer.html\")"
   ]
  },
  {
   "cell_type": "markdown",
   "metadata": {
    "tags": []
   },
   "source": [
    "##### Using `h3_to_geo_boundary`, `shapely.Polygon` (for `geopandas` native) and `PolygonLayer` (for `pydeck`)"
   ]
  },
  {
   "cell_type": "code",
   "execution_count": null,
   "metadata": {
    "tags": []
   },
   "outputs": [],
   "source": [
    "import shapely\n",
    "\n",
    "import geopandas as gpd\n",
    "\n",
    "\n",
    "def get_geo_and_count(row):\n",
    "    \n",
    "    h3_code = np.int64(row[f\"StartLoc_H3_{H3_RESOLUTION}\"])  ## disapointingly necessary bc for some reason .apply casts to float and messes up the value\n",
    "    \n",
    "    print((row[f\"StartLoc_H3_{H3_RESOLUTION}\"]))\n",
    "    boundary = h3.h3_to_geo_boundary(h3_code)\n",
    "    polygon = shapely.Polygon(boundary)\n",
    "    \n",
    "    return {\"boundary\": boundary, \"polygon\": polygon}\n",
    "\n",
    "gdf_trips_counts[[\"boundary\", \"polygon\"]] = gdf_trips_counts.apply(lambda row: get_geo_and_count(row), axis=1, result_type=\"expand\")\n",
    "\n",
    "gdf_trips_counts = gpd.GeoDataFrame(gdf_trips_counts, geometry=\"polygon\", crs=\"EPSG:4326\")"
   ]
  },
  {
   "cell_type": "code",
   "execution_count": null,
   "metadata": {
    "tags": []
   },
   "outputs": [],
   "source": [
    "gdf_trips_counts"
   ]
  },
  {
   "cell_type": "code",
   "execution_count": null,
   "metadata": {
    "tags": []
   },
   "outputs": [],
   "source": [
    "import pydeck as pdk\n",
    "\n",
    "polygon_layer = pdk.Layer(\n",
    "    \"PolygonLayer\",\n",
    "    data=gdf_trips_counts,\n",
    "    get_polygon=\"boundary\",\n",
    "    get_elevation=\"count / 100\",\n",
    "    extruded=True,\n",
    "    elevation_scale=100,\n",
    "    wireframe=True,\n",
    "    get_line_color=[0, 0, 0, 100],\n",
    "    get_fill_color=[\"count * 10\", \"count\", \"count * 10\", 140],\n",
    "    pickable=True,\n",
    "    auto_highlight=True,\n",
    ")\n",
    "\n",
    "# Set the viewport location\n",
    "view_state = pdk.ViewState(latitude=50,\n",
    "                           longitude=8,\n",
    "                           zoom=5,\n",
    "                           bearing=0,\n",
    "                           pitch=60)\n",
    "\n",
    "\n",
    "# Render\n",
    "r = pdk.Deck(layers=[polygon_layer],\n",
    "             initial_view_state=view_state,\n",
    "             map_style=pdk.map_styles.CARTO_ROAD,\n",
    "             tooltip={\"html\": \"\"\"<b>Lat, Lon:</b> {lat}, {lon} <br /><b>Count:</b> {count}\"\"\"})\n",
    "r #.to_html(\"h3_centroids_ColumnLayer.html\")"
   ]
  },
  {
   "cell_type": "markdown",
   "metadata": {
    "tags": []
   },
   "source": [
    "##### Using `HeatmapLayer` on all data"
   ]
  },
  {
   "cell_type": "code",
   "execution_count": null,
   "metadata": {
    "tags": []
   },
   "outputs": [],
   "source": [
    "gdf_trips.head()"
   ]
  },
  {
   "cell_type": "code",
   "execution_count": null,
   "metadata": {
    "tags": []
   },
   "outputs": [],
   "source": [
    "import pydeck as pdk\n",
    "\n",
    "\n",
    "COLOR_BREWER_MY_COLOR = [  ## https://colorbrewer2.org/#type=diverging&scheme=PuOr&n=10\n",
    "    [127 , 59  , 8],\n",
    "    [179 , 88  , 6],\n",
    "    [224 , 130 , 20],\n",
    "    [253 , 184 , 99],\n",
    "    [254 , 224 , 182],\n",
    "    [216 , 218 , 235],\n",
    "    [178 , 171 , 210],\n",
    "    [128 , 115 , 172],\n",
    "    [84  , 39  , 136],\n",
    "    [45  , 0   , 75],\n",
    "]\n",
    "\n",
    "heatmap_layer = pdk.Layer(\n",
    "    \"HeatmapLayer\",\n",
    "    data=gdf_trips[[\"StartLocLon\", \"StartLocLat\"]].sample(frac=0.5),\n",
    "    opacity=0.7,\n",
    "    intensity=12,\n",
    "    get_position=[\"StartLocLon\", \"StartLocLat\"],\n",
    "    aggregation=pdk.types.String(\"SUM\"),\n",
    "    color_range=COLOR_BREWER_MY_COLOR,\n",
    "    # threshold=1,\n",
    "    # get_weight=\"count\",\n",
    "    pickable=True,\n",
    ")\n",
    "\n",
    "# Set the viewport location\n",
    "view_state = pdk.ViewState(latitude=50,\n",
    "                           longitude=8,\n",
    "                           zoom=5,\n",
    "                           bearing=15,\n",
    "                           pitch=0)\n",
    "\n",
    "# Render\n",
    "r = pdk.Deck(layers=[heatmap_layer],\n",
    "             initial_view_state=view_state,\n",
    "             # map_style=pdk.map_styles.CARTO_ROAD,\n",
    "             # tooltip={\"html\": \"\"\"<b>Lat, Lon:</b> {lat}, {lon} <br /><b>Count:</b> {count}\"\"\"},\n",
    "            )\n",
    "r #.to_html(\"h3_centroids_ColumnLayer.html\")"
   ]
  },
  {
   "cell_type": "code",
   "execution_count": null,
   "metadata": {},
   "outputs": [],
   "source": []
  },
  {
   "cell_type": "code",
   "execution_count": null,
   "metadata": {},
   "outputs": [],
   "source": []
  },
  {
   "cell_type": "code",
   "execution_count": null,
   "metadata": {},
   "outputs": [],
   "source": []
  },
  {
   "cell_type": "code",
   "execution_count": null,
   "metadata": {},
   "outputs": [],
   "source": []
  }
 ],
 "metadata": {
  "kernelspec": {
   "display_name": "Python 3 (ipykernel)",
   "language": "python",
   "name": "python3"
  },
  "language_info": {
   "codemirror_mode": {
    "name": "ipython",
    "version": 3
   },
   "file_extension": ".py",
   "mimetype": "text/x-python",
   "name": "python",
   "nbconvert_exporter": "python",
   "pygments_lexer": "ipython3",
   "version": "3.11.7"
  }
 },
 "nbformat": 4,
 "nbformat_minor": 4
}
