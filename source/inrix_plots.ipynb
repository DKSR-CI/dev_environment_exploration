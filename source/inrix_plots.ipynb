{
 "cells": [
  {
   "cell_type": "code",
   "execution_count": null,
   "metadata": {},
   "outputs": [],
   "source": [
    "from pathlib import Path\n",
    "\n",
    "import os\n",
    "import numpy as np\n",
    "import pandas as pd\n",
    "\n",
    "import plotly.express as px\n",
    "import plotly.graph_objects as go\n",
    "from plotly.subplots import make_subplots\n",
    "import branca.colormap as cm\n",
    "from folium.features import GeoJsonTooltip\n",
    "\n",
    "import geopandas as gpd\n",
    "import datetime as dt\n",
    "\n",
    "import osmnx as ox\n",
    "from shapely import Point\n",
    "import folium"
   ]
  },
  {
   "cell_type": "markdown",
   "metadata": {},
   "source": [
    "# Questions to Explore\n",
    "\n",
    "## Understand Land use relative to transport\n",
    "- Where do trips start and end?\n",
    "- For each hour of the day, which streets are destinations, which are origins. Separate weekday/weekend?\n",
    "## Reduce Congestion\n",
    "- Where are the congested zones? What time are they congested? Plot routes which pass through congested zones. Can they be diverted?\n",
    "- Do the different weight classes have similar congestion zones?\n",
    "## Reduce car use \n",
    "- Compare each trip to the shortest distance. How many trips are far less efficient than the shortest path?\n",
    "- Which trips could have been replaced by public transport\n",
    "- Which trips could have been replaced by cycling?"
   ]
  },
  {
   "cell_type": "code",
   "execution_count": null,
   "metadata": {},
   "outputs": [],
   "source": [
    "df_trips = pd.read_parquet(\"../data/processed/all_trips.parquet\")\n",
    "\n",
    "df_trips.StartDate = pd.to_datetime(df_trips.StartDate)\n",
    "df_trips.EndDate = pd.to_datetime(df_trips.EndDate)\n",
    "\n",
    "df_trips[\"StartHour\"] = df_trips.StartDate.dt.hour\n",
    "df_trips[\"EndHour\"] = df_trips.EndDate.dt.hour\n",
    "df_trips[\"Date\"] = df_trips.StartDate.dt.date\n",
    "\n",
    "def classify_day(hour):\n",
    "        return 'weekend' if hour in [1, 7] else 'weekday'\n",
    "\n",
    "# Apply the function to StartWDay and EndWDay columns to classify the days\n",
    "df_trips['StartDayType'] = df_trips['StartWDay'].apply(classify_day)\n",
    "df_trips['EndDayType'] = df_trips['EndWDay'].apply(classify_day)\n",
    "\n",
    "# Merge the two classifications into one, considering if the trip starts and ends on the same day\n",
    "df_trips['DayType'] = df_trips.apply(lambda row: 'weekend' if row['StartDayType'] == 'weekend' and row['EndDayType'] == 'weekend' else 'weekday', axis=1)"
   ]
  },
  {
   "cell_type": "markdown",
   "metadata": {},
   "source": [
    "# Trip starts and ends within the city"
   ]
  },
  {
   "cell_type": "code",
   "execution_count": null,
   "metadata": {},
   "outputs": [],
   "source": [
    "siegburg = ox.geocode_to_gdf(\"Siegburg\")\n",
    "siegburg\n",
    "\n",
    "m = folium.Map(location=(float(siegburg.lat), float(siegburg.lon)), zoom_level=17)\n",
    "\n",
    "# boundary\n",
    "s_boundary = folium.GeoJson(data=siegburg.to_json())\n",
    "s_boundary.add_to(m)\n",
    "\n",
    "# centroid\n",
    "s_centroid = folium.GeoJson(data=Point(0.5*(siegburg[\"bbox_east\"] - siegburg[\"bbox_west\"]) + siegburg[\"bbox_west\"], 0.5*(siegburg[\"bbox_north\"] - siegburg[\"bbox_south\"]) + siegburg[\"bbox_south\"]))\n",
    "s_centroid.add_to(m)\n",
    "\n",
    "#m"
   ]
  },
  {
   "cell_type": "code",
   "execution_count": null,
   "metadata": {},
   "outputs": [],
   "source": [
    "def add_geometry(df, p):\n",
    "    locations = df.loc[:, [f\"{p}LocLat\", f\"{p}LocLon\"]].copy()\n",
    "    locations = locations.apply(lambda row: Point(row[f\"{p}LocLon\"], row[f\"{p}LocLat\"]), axis=1)\n",
    "    df= df.copy()\n",
    "    df.loc[:, f\"{p}Point\"] = locations\n",
    "    return df\n",
    "\n",
    "def filter_origin_destination_in_location_bbox(df_trips:pd.DataFrame, location_name:str, max_distance=100) -> pd.DataFrame:\n",
    "    \n",
    "    print(f\"total trips: {df_trips.shape[0]}\")\n",
    "    location = ox.geocode_to_gdf(location_name)\n",
    "    \n",
    "    # First Filter Pass: Get trip starts within the Siegburg bounding box\n",
    "    trip_starts = df_trips.loc[(location.loc[0, \"bbox_south\"] < df_trips[\"StartLocLat\"]) & (df_trips[\"StartLocLat\"] < location.loc[0, \"bbox_north\"]) &\n",
    "                                (location.loc[0, \"bbox_west\"] < df_trips[\"StartLocLon\"]) & (df_trips[\"StartLocLon\"] < location.loc[0, \"bbox_east\"]), :]\n",
    "\n",
    "    trip_ends = df_trips.loc[(location.loc[0, \"bbox_south\"] < df_trips[\"EndLocLat\"]) & (df_trips[\"EndLocLat\"] < location.loc[0, \"bbox_north\"]) &\n",
    "                                (location.loc[0, \"bbox_west\"] < df_trips[\"EndLocLon\"]) & (df_trips[\"EndLocLon\"] < location.loc[0, \"bbox_east\"]), :]\n",
    "\n",
    "    for p in [\"Start\", \"End\"]:\n",
    "        trip_ends = add_geometry(trip_ends, p)\n",
    "        trip_starts = add_geometry(trip_starts, p) \n",
    "    trips_in_bbox = pd.concat([trip_starts, trip_ends])\n",
    "\n",
    "    print(f\"trips in bbox: {trips_in_bbox.shape[0]}\")\n",
    "\n",
    "    # Second stage of filtering\n",
    "    location_graph = ox.graph_from_address(location_name)\n",
    "\n",
    "    start_coords = trips_in_bbox.StartPoint\n",
    "    start_nearest_edge, dist_start_edge = ox.distance.nearest_edges(G=location_graph, X=[p.x for p in start_coords], Y=[p.y for p in start_coords], return_dist=True)\n",
    "    trips_in_bbox[\"StartNearestEdge\"] = start_nearest_edge\n",
    "    trips_in_bbox[\"StartDistanceToEdge\"] = dist_start_edge\n",
    "\n",
    "    end_coords = trips_in_bbox.EndPoint\n",
    "    end_nearest_edge, dist_end_edge = ox.distance.nearest_edges(G=location_graph, X=[p.x for p in end_coords], Y=[p.y for p in end_coords], return_dist=True)\n",
    "    trips_in_bbox[\"EndNearestEdge\"] = end_nearest_edge\n",
    "    trips_in_bbox[\"EndDistanceToEdge\"] = dist_end_edge\n",
    "\n",
    "    trips_in_bbox = trips_in_bbox.copy()\n",
    "    trips_near_network = trips_in_bbox.loc[(trips_in_bbox.StartDistanceToEdge < max_distance) | (trips_in_bbox.EndDistanceToEdge < max_distance), :]\n",
    "\n",
    "    # Trips with start and end points within 100m from a street edge\n",
    "    print(f\"trips within {max_distance}m of network: {trips_near_network.shape[0]}\")\n",
    "    \n",
    "    return trips_near_network, location_graph\n",
    "\n",
    "siegburg, siegburg_graph = filter_origin_destination_in_location_bbox(df_trips, \"siegburg\")"
   ]
  },
  {
   "cell_type": "markdown",
   "metadata": {},
   "source": [
    "## Trips starting or leaving each street per hour"
   ]
  },
  {
   "cell_type": "code",
   "execution_count": null,
   "metadata": {},
   "outputs": [],
   "source": [
    "def count_trips_per_street(data:pd.DataFrame, trip_starts=True):\n",
    "    if trip_starts:\n",
    "        trip_type = \"Start\"\n",
    "    else:\n",
    "        trip_type = \"End\"\n",
    "\n",
    "    nodes = pd.pivot_table(data=data, values=f\"{trip_type}DistanceToEdge\", columns=f\"{trip_type}NearestEdge\", index=f\"{trip_type}Hour\", aggfunc=\"count\")\n",
    "    trip_counts = pd.DataFrame(nodes.loc[:6, :].sum().rename(\"0-6\"))\n",
    "    trip_counts[\"7-12\"] = nodes.loc[7:12, :].sum()\n",
    "    trip_counts[\"13-18\"] = nodes.loc[13:18, :].sum()\n",
    "    trip_counts[\"19-23\"] = nodes.loc[18:, :].sum()\n",
    "    trip_counts = trip_counts.rename(columns={c:f\"{trip_type}Counts_{c}\"for c in trip_counts.columns})\n",
    "    trip_counts.index = pd.MultiIndex.from_tuples(trip_counts.index, names=('u', 'v', 'key'))\n",
    "\n",
    "    return trip_counts\n",
    "\n",
    "def color_trips(trip_counts:pd.DataFrame, min_val:int = 0, max_val:int = 100) -> pd.DataFrame:\n",
    "    colormap = cm.LinearColormap(colors=[\"white\", \"red\"], vmin=min_val, vmax=max_val)\n",
    "    trip_colors = trip_counts.copy().rename(columns = {c:c.replace(\"Counts\", \"Colors\") for c in trip_counts.columns})\n",
    "    for c in trip_colors.columns:\n",
    "        trip_colors[c] = trip_colors[c].map(colormap)\n",
    "\n",
    "    return trip_colors\n",
    "\n",
    "start_counts = count_trips_per_street(siegburg, trip_starts=True)\n",
    "start_colors = color_trips(start_counts)\n",
    "\n",
    "end_counts = count_trips_per_street(siegburg, trip_starts=False)\n",
    "end_colors = color_trips(end_counts)"
   ]
  },
  {
   "cell_type": "code",
   "execution_count": null,
   "metadata": {},
   "outputs": [],
   "source": [
    "nodes, streets = ox.graph_to_gdfs(siegburg_graph)\n",
    "streets = streets.join(start_counts, how=\"inner\").join(start_colors, how=\"inner\").join(end_counts, how=\"inner\").join(end_colors, how=\"inner\")"
   ]
  },
  {
   "cell_type": "code",
   "execution_count": null,
   "metadata": {},
   "outputs": [],
   "source": [
    "streets.head()"
   ]
  },
  {
   "cell_type": "code",
   "execution_count": null,
   "metadata": {},
   "outputs": [],
   "source": [
    "start_or_end = \"End\"\n",
    "period = \"7-12\"\n",
    "\n",
    "\n",
    "m = folium.Map(location=ox.geocode(\"siegburg\"), zoom_start=16, tiles=\"CartoDb dark_matter\")\n",
    "\n",
    "style_function = lambda x: {\n",
    "    'color': x['properties'][f'{start_or_end}Colors_{period}'],\n",
    "    'weight': 3\n",
    "    }\n",
    "\n",
    "folium.GeoJson(streets, style_function=style_function).add_to(m)\n",
    "\n",
    "\n",
    "# Create the tooltip\n",
    "tooltip = GeoJsonTooltip(\n",
    "    fields=[f'{start_or_end}Counts_{period}'],  \n",
    "    aliases=[f'Trip {start_or_end} ({period}):'], \n",
    ")\n",
    "\n",
    "gj = folium.GeoJson(\n",
    "    streets,\n",
    "    style_function=style_function,\n",
    "    tooltip=tooltip\n",
    ")\n",
    "gj.add_to(m)\n",
    "\n",
    "\n",
    "loc = f'Number of Trip {start_or_end}s during the period {period}'\n",
    "title_html = '''\n",
    "             <h3 align=\"center\" style=\"font-size:16px\"><b>{}</b></h3>\n",
    "             '''.format(loc)  \n",
    "\n",
    "m.get_root().html.add_child(folium.Element(title_html))\n",
    "\n",
    "m"
   ]
  },
  {
   "cell_type": "markdown",
   "metadata": {},
   "source": [
    "# Weight Classes per Hour"
   ]
  },
  {
   "cell_type": "code",
   "execution_count": null,
   "metadata": {},
   "outputs": [],
   "source": [
    "def plot_trip_counts_by_weight_class(df):\n",
    "    trip_counts = df.loc[:, [\"VehicleWeightClass\", \"StartHour\", \"DayType\", \"Date\", \"Mode\"]].groupby(\n",
    "        [\"Date\", \"VehicleWeightClass\", \"StartHour\", \"DayType\"]).count().reset_index()\n",
    "\n",
    "    # Get unique values of DayType\n",
    "    for i in range(1, 4):\n",
    "        # Filter data for the specific VehicleWeightClass and DayType\n",
    "        filtered_data = trip_counts[(trip_counts['VehicleWeightClass'] == i)]\n",
    "        \n",
    "        # Append trace for the specific VehicleWeightClass and DayType\n",
    "        fig = px.box(\n",
    "            filtered_data,\n",
    "            x='StartHour',\n",
    "            y='Mode',\n",
    "            color=\"DayType\",  \n",
    "            title=f\"Trip starts for Vehichle Weight Class {i}\"\n",
    "        )\n",
    "        fig.show()\n",
    "\n",
    "plot_trip_counts_by_weight_class(df_trips)"
   ]
  },
  {
   "cell_type": "code",
   "execution_count": null,
   "metadata": {},
   "outputs": [],
   "source": [
    "H3_RESOLUTION = 5\n",
    "gdf_trips = gpd.read_parquet(f\"../data/processed/all_trips_h3_{H3_RESOLUTION}.parquet\")"
   ]
  },
  {
   "cell_type": "code",
   "execution_count": null,
   "metadata": {},
   "outputs": [],
   "source": [
    "gdf_trips.columns"
   ]
  },
  {
   "cell_type": "code",
   "execution_count": null,
   "metadata": {},
   "outputs": [],
   "source": [
    "import pydeck as pdk\n",
    "\n",
    "\n",
    "COLOR_BREWER_MY_COLOR = [  ## https://colorbrewer2.org/#type=diverging&scheme=PuOr&n=10\n",
    "    [127 , 59  , 8],\n",
    "    [179 , 88  , 6],\n",
    "    [224 , 130 , 20],\n",
    "    [253 , 184 , 99],\n",
    "    [254 , 224 , 182],\n",
    "    [216 , 218 , 235],\n",
    "    [178 , 171 , 210],\n",
    "    [128 , 115 , 172],\n",
    "    [84  , 39  , 136],\n",
    "    [45  , 0   , 75],\n",
    "]\n",
    "\n",
    "heatmap_layer = pdk.Layer(\n",
    "    \"HeatmapLayer\",\n",
    "    data=gdf_trips[[\"StartLocLon\", \"StartLocLat\"]].sample(frac=0.5),\n",
    "    opacity=0.7,\n",
    "    intensity=12,\n",
    "    get_position=[\"StartLocLon\", \"StartLocLat\"],\n",
    "    aggregation=pdk.types.String(\"SUM\"),\n",
    "    color_range=COLOR_BREWER_MY_COLOR,\n",
    "    # threshold=1,\n",
    "    # get_weight=\"count\",\n",
    "    pickable=True,\n",
    ")\n",
    "\n",
    "# Set the viewport location\n",
    "view_state = pdk.ViewState(latitude=50,\n",
    "                           longitude=8,\n",
    "                           zoom=5,\n",
    "                           bearing=0,\n",
    "                           pitch=0)\n",
    "\n",
    "# Render\n",
    "r = pdk.Deck(layers=[heatmap_layer],\n",
    "             initial_view_state=view_state,\n",
    "             # map_style=pdk.map_styles.CARTO_ROAD,\n",
    "             # tooltip={\"html\": \"\"\"<b>Lat, Lon:</b> {lat}, {lon} <br /><b>Count:</b> {count}\"\"\"},\n",
    "            )\n",
    "r #.to_html(\"h3_centroids_ColumnLayer.html\")"
   ]
  },
  {
   "cell_type": "code",
   "execution_count": null,
   "metadata": {},
   "outputs": [],
   "source": []
  }
 ],
 "metadata": {
  "kernelspec": {
   "display_name": "base",
   "language": "python",
   "name": "python3"
  },
  "language_info": {
   "codemirror_mode": {
    "name": "ipython",
    "version": 3
   },
   "file_extension": ".py",
   "mimetype": "text/x-python",
   "name": "python",
   "nbconvert_exporter": "python",
   "pygments_lexer": "ipython3",
   "version": "3.11.7"
  }
 },
 "nbformat": 4,
 "nbformat_minor": 2
}
