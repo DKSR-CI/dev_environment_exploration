{
 "cells": [
  {
   "cell_type": "code",
   "execution_count": null,
   "metadata": {},
   "outputs": [],
   "source": [
    "from pathlib import Path\n",
    "\n",
    "import os\n",
    "import numpy as np\n",
    "import pandas as pd\n",
    "\n",
    "import plotly.express as px\n",
    "import plotly.graph_objects as go\n",
    "from plotly.subplots import make_subplots\n",
    "import geopandas as gpd\n",
    "import datetime as dt\n",
    "\n",
    "import osmnx as ox\n",
    "from shapely import Point\n",
    "import folium"
   ]
  },
  {
   "cell_type": "markdown",
   "metadata": {},
   "source": [
    "# Questions to Explore\n",
    "\n",
    "## Understand Land use relative to transport\n",
    "- Where do trips start and end?\n",
    "- For each hour of the day, which streets are destinations, which are origins. Separate weekday/weekend?\n",
    "## Reduce Congestion\n",
    "- Where are the congested zones? What time are they congested? Plot routes which pass through congested zones. Can they be diverted?\n",
    "- Do the different weight classes have similar congestion zones?\n",
    "## Reduce car use \n",
    "- Compare each trip to the shortest distance. How many trips are far less efficient than the shortest path?\n",
    "- Which trips could have been replaced by public transport\n",
    "- Which trips could have been replaced by cycling?"
   ]
  },
  {
   "cell_type": "code",
   "execution_count": null,
   "metadata": {},
   "outputs": [],
   "source": [
    "df_trips = pd.read_parquet(\"../data/processed/all_trips.parquet\")\n",
    "\n",
    "df_trips.StartDate = pd.to_datetime(df_trips.StartDate)\n",
    "df_trips.EndDate = pd.to_datetime(df_trips.EndDate)\n",
    "\n",
    "df_trips[\"StartHour\"] = df_trips.StartDate.dt.hour\n",
    "df_trips[\"EndHour\"] = df_trips.EndDate.dt.hour\n",
    "df_trips[\"Date\"] = df_trips.StartDate.dt.date\n",
    "\n",
    "def classify_day(hour):\n",
    "        return 'weekend' if hour in [1, 7] else 'weekday'\n",
    "\n",
    "# Apply the function to StartWDay and EndWDay columns to classify the days\n",
    "df_trips['StartDayType'] = df_trips['StartWDay'].apply(classify_day)\n",
    "df_trips['EndDayType'] = df_trips['EndWDay'].apply(classify_day)\n",
    "\n",
    "# Merge the two classifications into one, considering if the trip starts and ends on the same day\n",
    "df_trips['DayType'] = df_trips.apply(lambda row: 'weekend' if row['StartDayType'] == 'weekend' and row['EndDayType'] == 'weekend' else 'weekday', axis=1)"
   ]
  },
  {
   "cell_type": "code",
   "execution_count": null,
   "metadata": {},
   "outputs": [],
   "source": [
    "df_trips.columns"
   ]
  },
  {
   "cell_type": "markdown",
   "metadata": {},
   "source": [
    "# Trip starts and ends within the city"
   ]
  },
  {
   "cell_type": "code",
   "execution_count": null,
   "metadata": {},
   "outputs": [],
   "source": [
    "siegburg = ox.geocode_to_gdf(\"Siegburg\")\n",
    "siegburg"
   ]
  },
  {
   "cell_type": "code",
   "execution_count": null,
   "metadata": {},
   "outputs": [],
   "source": [
    "m = folium.Map(location=(float(siegburg.lat), float(siegburg.lon)), zoom_level=17)\n",
    "# boundary\n",
    "s_boundary = folium.GeoJson(data=siegburg.to_json())\n",
    "s_boundary.add_to(m)\n",
    "\n",
    "# centroid\n",
    "s_centroid = folium.GeoJson(data=Point(0.5*(siegburg[\"bbox_east\"] - siegburg[\"bbox_west\"]) + siegburg[\"bbox_west\"], 0.5*(siegburg[\"bbox_north\"] - siegburg[\"bbox_south\"]) + siegburg[\"bbox_south\"]))\n",
    "s_centroid.add_to(m)\n",
    "\n",
    "# Coords\n",
    "s_coords = folium.GeoJson(data=Point(siegburg[\"lon\"], siegburg[\"lat\"]))\n",
    "#s_coords.add_to(m)\n",
    "# m"
   ]
  },
  {
   "cell_type": "code",
   "execution_count": null,
   "metadata": {},
   "outputs": [],
   "source": [
    "start_coords = df_trips.loc[(siegburg.loc[0, \"bbox_south\"] < df_trips[\"StartLocLat\"]) & (df_trips[\"StartLocLat\"] < siegburg.loc[0, \"bbox_north\"]) &\n",
    "                            (siegburg.loc[0, \"bbox_west\"] < df_trips[\"StartLocLon\"]) & (df_trips[\"StartLocLon\"] < siegburg.loc[0, \"bbox_east\"]), [\"StartLocLat\", \"StartLocLon\"]].apply(lambda row: Point(row[\"StartLocLat\"], row[\"StartLocLon\"]), axis=1)\n",
    "\n",
    "len(start_coords)"
   ]
  },
  {
   "cell_type": "code",
   "execution_count": null,
   "metadata": {},
   "outputs": [],
   "source": [
    "for p in start_coords[:10]:\n",
    "    this_p = folium.GeoJson(data=p)\n",
    "    this_p.add_to(m)\n",
    "m"
   ]
  },
  {
   "cell_type": "markdown",
   "metadata": {},
   "source": [
    "# Weight Classes per Hour"
   ]
  },
  {
   "cell_type": "code",
   "execution_count": null,
   "metadata": {},
   "outputs": [],
   "source": [
    "def plot_trip_counts_by_weight_class(df):\n",
    "    trip_counts = df.loc[:, [\"VehicleWeightClass\", \"StartHour\", \"DayType\", \"Date\", \"Mode\"]].groupby(\n",
    "        [\"Date\", \"VehicleWeightClass\", \"StartHour\", \"DayType\"]).count().reset_index()\n",
    "\n",
    "    # Get unique values of DayType\n",
    "    for i in range(1, 4):\n",
    "        # Filter data for the specific VehicleWeightClass and DayType\n",
    "        filtered_data = trip_counts[(trip_counts['VehicleWeightClass'] == i)]\n",
    "        \n",
    "        # Append trace for the specific VehicleWeightClass and DayType\n",
    "        fig = px.box(\n",
    "            filtered_data,\n",
    "            x='StartHour',\n",
    "            y='Mode',\n",
    "            color=\"DayType\",  \n",
    "            title=f\"Trip starts for Vehichle Weight Class {i}\"\n",
    "        )\n",
    "        fig.show()\n",
    "\n",
    "plot_trip_counts_by_weight_class(df_trips)"
   ]
  },
  {
   "cell_type": "code",
   "execution_count": null,
   "metadata": {},
   "outputs": [],
   "source": [
    "H3_RESOLUTION = 5\n",
    "gdf_trips = gpd.read_parquet(f\"../data/processed/all_trips_h3_{H3_RESOLUTION}.parquet\")"
   ]
  },
  {
   "cell_type": "code",
   "execution_count": null,
   "metadata": {},
   "outputs": [],
   "source": [
    "gdf_trips.columns"
   ]
  },
  {
   "cell_type": "code",
   "execution_count": null,
   "metadata": {},
   "outputs": [],
   "source": [
    "import pydeck as pdk\n",
    "\n",
    "\n",
    "COLOR_BREWER_MY_COLOR = [  ## https://colorbrewer2.org/#type=diverging&scheme=PuOr&n=10\n",
    "    [127 , 59  , 8],\n",
    "    [179 , 88  , 6],\n",
    "    [224 , 130 , 20],\n",
    "    [253 , 184 , 99],\n",
    "    [254 , 224 , 182],\n",
    "    [216 , 218 , 235],\n",
    "    [178 , 171 , 210],\n",
    "    [128 , 115 , 172],\n",
    "    [84  , 39  , 136],\n",
    "    [45  , 0   , 75],\n",
    "]\n",
    "\n",
    "heatmap_layer = pdk.Layer(\n",
    "    \"HeatmapLayer\",\n",
    "    data=gdf_trips[[\"StartLocLon\", \"StartLocLat\"]].sample(frac=0.5),\n",
    "    opacity=0.7,\n",
    "    intensity=12,\n",
    "    get_position=[\"StartLocLon\", \"StartLocLat\"],\n",
    "    aggregation=pdk.types.String(\"SUM\"),\n",
    "    color_range=COLOR_BREWER_MY_COLOR,\n",
    "    # threshold=1,\n",
    "    # get_weight=\"count\",\n",
    "    pickable=True,\n",
    ")\n",
    "\n",
    "# Set the viewport location\n",
    "view_state = pdk.ViewState(latitude=50,\n",
    "                           longitude=8,\n",
    "                           zoom=5,\n",
    "                           bearing=0,\n",
    "                           pitch=0)\n",
    "\n",
    "# Render\n",
    "r = pdk.Deck(layers=[heatmap_layer],\n",
    "             initial_view_state=view_state,\n",
    "             # map_style=pdk.map_styles.CARTO_ROAD,\n",
    "             # tooltip={\"html\": \"\"\"<b>Lat, Lon:</b> {lat}, {lon} <br /><b>Count:</b> {count}\"\"\"},\n",
    "            )\n",
    "r #.to_html(\"h3_centroids_ColumnLayer.html\")"
   ]
  },
  {
   "cell_type": "code",
   "execution_count": null,
   "metadata": {},
   "outputs": [],
   "source": []
  }
 ],
 "metadata": {
  "kernelspec": {
   "display_name": "base",
   "language": "python",
   "name": "python3"
  },
  "language_info": {
   "codemirror_mode": {
    "name": "ipython",
    "version": 3
   },
   "file_extension": ".py",
   "mimetype": "text/x-python",
   "name": "python",
   "nbconvert_exporter": "python",
   "pygments_lexer": "ipython3",
   "version": "3.11.7"
  }
 },
 "nbformat": 4,
 "nbformat_minor": 2
}
